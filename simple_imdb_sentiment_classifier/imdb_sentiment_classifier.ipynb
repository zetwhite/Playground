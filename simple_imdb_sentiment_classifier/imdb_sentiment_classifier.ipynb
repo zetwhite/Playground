{
 "cells": [
  {
   "cell_type": "markdown",
   "id": "5460b60a",
   "metadata": {},
   "source": [
    "## Reference\n",
    "\n",
    "This code is from the book - `deeplearning illustrated ch.11`"
   ]
  },
  {
   "cell_type": "code",
   "execution_count": 1,
   "id": "d0454e56",
   "metadata": {},
   "outputs": [],
   "source": [
    "from tensorflow import keras\n",
    "from tensorflow.keras.datasets import imdb\n",
    "from tensorflow.keras.preprocessing.sequence import pad_sequences\n",
    "from tensorflow.keras.models import Sequential\n",
    "from tensorflow.keras.layers import Dense, Flatten, Dropout\n",
    "from tensorflow.keras.layers import Embedding\n",
    "from tensorflow.keras.callbacks import ModelCheckpoint"
   ]
  },
  {
   "cell_type": "code",
   "execution_count": 2,
   "id": "6d143519",
   "metadata": {},
   "outputs": [],
   "source": [
    "output_dir = 'model_output/dense'\n",
    "\n",
    "epochs = 4\n",
    "batch_size = 128\n",
    "\n",
    "n_dim = 64\n",
    "n_unique_words = 5000\n",
    "n_words_to_skip = 50\n",
    "max_review_length = 100\n",
    "pad_type = truc_type = 'pre'\n",
    "\n",
    "n_dense = 64\n",
    "dropout = 0.5"
   ]
  },
  {
   "cell_type": "code",
   "execution_count": 3,
   "id": "0a1f9beb",
   "metadata": {},
   "outputs": [],
   "source": [
    "# https://www.tensorflow.org/api_docs/python/tf/keras/datasets/imdb/load_data \n",
    "(x_train, y_train), (x_valid, y_valid) = imdb.load_data(num_words = n_unique_words, skip_top = n_words_to_skip)"
   ]
  },
  {
   "cell_type": "markdown",
   "id": "1d9c545e",
   "metadata": {},
   "source": [
    "## Check data format"
   ]
  },
  {
   "cell_type": "code",
   "execution_count": 4,
   "id": "267e78f0",
   "metadata": {},
   "outputs": [],
   "source": [
    "word_index = keras.datasets.imdb.get_word_index()\n",
    "word_index = {k:(v+3) for k, v in word_index.items()}\n",
    "word_index[\"PAD\"] = 0\n",
    "word_index[\"START\"] = 1\n",
    "word_index[\"UNK\"] = 2\n",
    "index_word = {v:k for k, v in word_index.items()}"
   ]
  },
  {
   "cell_type": "code",
   "execution_count": 5,
   "id": "2bd5dbf1",
   "metadata": {},
   "outputs": [
    {
     "data": {
      "text/plain": [
       "\"UNK UNK UNK UNK UNK brilliant casting location scenery story direction everyone's really suited UNK part UNK played UNK UNK could UNK imagine being there robert UNK UNK UNK amazing actor UNK now UNK same being director UNK father came UNK UNK same scottish island UNK myself UNK UNK loved UNK fact there UNK UNK real connection UNK UNK UNK UNK witty remarks throughout UNK UNK were great UNK UNK UNK brilliant UNK much UNK UNK bought UNK UNK UNK soon UNK UNK UNK released UNK UNK UNK would recommend UNK UNK everyone UNK watch UNK UNK fly UNK UNK amazing really cried UNK UNK end UNK UNK UNK sad UNK UNK know what UNK say UNK UNK cry UNK UNK UNK UNK must UNK been good UNK UNK definitely UNK also UNK UNK UNK two little UNK UNK played UNK UNK UNK norman UNK paul UNK were UNK brilliant children UNK often left UNK UNK UNK UNK list UNK think because UNK stars UNK play them UNK grown up UNK such UNK big UNK UNK UNK whole UNK UNK these children UNK amazing UNK should UNK UNK UNK what UNK UNK done don't UNK think UNK whole story UNK UNK lovely because UNK UNK true UNK UNK someone's life after UNK UNK UNK UNK UNK us UNK\""
      ]
     },
     "execution_count": 5,
     "metadata": {},
     "output_type": "execute_result"
    }
   ],
   "source": [
    "' '.join(index_word[id] for id in x_train[0])"
   ]
  },
  {
   "cell_type": "code",
   "execution_count": 6,
   "id": "90f87ae8",
   "metadata": {
    "scrolled": true
   },
   "outputs": [
    {
     "data": {
      "text/plain": [
       "\"START this film was just brilliant casting location scenery story direction everyone's really suited the part they played and you could just imagine being there robert redford's is an amazing actor and now the same being director norman's father came from the same scottish island as myself so i loved the fact there was a real connection with this film the witty remarks throughout the film were great it was just brilliant so much that i bought the film as soon as it was released for retail and would recommend it to everyone to watch and the fly fishing was amazing really cried at the end it was so sad and you know what they say if you cry at a film it must have been good and this definitely was also congratulations to the two little boy's that played the part's of norman and paul they were just brilliant children are often left out of the praising list i think because the stars that play them all grown up are such a big profile for the whole film but these children are amazing and should be praised for what they have done don't you think the whole story was so lovely because it was true and was someone's life after all that was shared with us all\""
      ]
     },
     "execution_count": 6,
     "metadata": {},
     "output_type": "execute_result"
    }
   ],
   "source": [
    "(all_x_train, all_y_train), (all_x_valid, all_y_valid) = imdb.load_data()\n",
    "\n",
    "' '.join(index_word[id] for id in all_x_train[0])"
   ]
  },
  {
   "cell_type": "markdown",
   "id": "38a4aa92",
   "metadata": {},
   "source": [
    "## Preprocessing"
   ]
  },
  {
   "cell_type": "code",
   "execution_count": 7,
   "id": "d690f138",
   "metadata": {},
   "outputs": [
    {
     "name": "stdout",
     "output_type": "stream",
     "text": [
      "100\n",
      "cry UNK UNK UNK UNK must UNK been good UNK UNK definitely UNK also UNK UNK UNK two little UNK UNK played UNK UNK UNK norman UNK paul UNK were UNK brilliant children UNK often left UNK UNK UNK UNK list UNK think because UNK stars UNK play them UNK grown up UNK such UNK big UNK UNK UNK whole UNK UNK these children UNK amazing UNK should UNK UNK UNK what UNK UNK done don't UNK think UNK whole story UNK UNK lovely because UNK UNK true UNK UNK someone's life after UNK UNK UNK UNK UNK us UNK\n",
      "100\n",
      "funny UNK equal UNK UNK hair UNK big lots UNK UNK UNK men wear those cut UNK UNK UNK show off their UNK UNK UNK men actually wore them UNK UNK music UNK UNK UNK trash UNK plays over UNK over again UNK almost every scene there UNK trashy music UNK UNK UNK taking away bodies UNK UNK UNK still doesn't close UNK UNK UNK UNK aside UNK UNK UNK truly bad UNK whose only charm UNK UNK look back UNK UNK disaster UNK UNK UNK 80's UNK UNK UNK good old laugh UNK how bad everything UNK back then\n",
      "100\n",
      "touching UNK floor UNK how bad UNK really UNK UNK rest UNK UNK time everyone else UNK UNK theatre UNK started talking UNK each other leaving UNK generally crying into their popcorn UNK UNK actually paid money UNK had UNK working UNK watch UNK UNK excuse UNK UNK UNK UNK must UNK looked UNK UNK great idea UNK paper UNK UNK UNK UNK looks UNK no UNK UNK UNK UNK UNK UNK clue what UNK going UNK crap acting crap costumes UNK can't get across how UNK UNK UNK UNK watch save yourself UNK hour UNK bit UNK your life\n",
      "100\n",
      "UNK UNK UNK got slightly annoyed UNK UNK UNK UNK hanging stories UNK more stories UNK also UNK UNK UNK UNK UNK once UNK saw UNK UNK picture ' forget UNK box office UNK UNK UNK UNK its UNK UNK might even UNK UNK UNK famous UNK UNK UNK UNK man UNK see UNK UNK UNK UNK true UNK UNK UNK UNK UNK probably unique UNK UNK maybe UNK UNK UNK deeply enough UNK might even re UNK UNK power UNK storytelling UNK UNK age old question UNK whether there UNK UNK UNK UNK cannot UNK told UNK only experienced\n",
      "100\n",
      "UNK UNK still suffering worst plot worst script worst UNK UNK UNK ever seen UNK wanted UNK hit my head up against UNK wall UNK UNK hour then i'd stop UNK UNK know why because UNK felt damn good upon UNK my head UNK UNK stuck UNK damn UNK UNK UNK UNK UNK watched UNK burn UNK UNK felt better than anything else i've ever done UNK took american psycho army UNK darkness UNK kill bill UNK UNK get over UNK crap UNK hate UNK sandler UNK actually going through UNK UNK UNK UNK UNK whole day UNK my life\n",
      "100\n",
      "PAD PAD PAD PAD PAD PAD PAD PAD PAD PAD PAD PAD PAD PAD PAD PAD PAD PAD PAD PAD PAD PAD PAD PAD PAD PAD PAD PAD PAD PAD PAD PAD PAD PAD PAD PAD PAD PAD PAD PAD PAD PAD PAD PAD PAD PAD PAD PAD PAD PAD PAD PAD PAD PAD PAD PAD PAD UNK begins better than UNK ends funny UNK UNK russian UNK crew UNK UNK other actors UNK UNK those scenes where documentary shots UNK UNK spoiler part UNK message UNK UNK contrary UNK UNK whole story UNK UNK does UNK UNK UNK UNK\n"
     ]
    }
   ],
   "source": [
    "# pad sequecnes to the same length\n",
    "x_train = pad_sequences(x_train, maxlen = max_review_length, padding = pad_type, truncating = truc_type, value = 0)\n",
    "x_valid = pad_sequences(x_valid, maxlen = max_review_length, padding = pad_type, truncating = truc_type, value = 0)\n",
    "\n",
    "for x in x_train[0:6]:\n",
    "    print(len(x))\n",
    "    print(' '.join(index_word[id] for id in x))"
   ]
  },
  {
   "cell_type": "markdown",
   "id": "d6a046e9",
   "metadata": {},
   "source": [
    "## Simple Dense Model _ V1"
   ]
  },
  {
   "cell_type": "code",
   "execution_count": 8,
   "id": "c855556b",
   "metadata": {},
   "outputs": [
    {
     "name": "stdout",
     "output_type": "stream",
     "text": [
      "Model: \"sequential\"\n",
      "_________________________________________________________________\n",
      " Layer (type)                Output Shape              Param #   \n",
      "=================================================================\n",
      " embedding (Embedding)       (None, 100, 64)           320000    \n",
      "                                                                 \n",
      " flatten (Flatten)           (None, 6400)              0         \n",
      "                                                                 \n",
      " dense (Dense)               (None, 64)                409664    \n",
      "                                                                 \n",
      " dropout (Dropout)           (None, 64)                0         \n",
      "                                                                 \n",
      " dense_1 (Dense)             (None, 1)                 65        \n",
      "                                                                 \n",
      "=================================================================\n",
      "Total params: 729729 (2.78 MB)\n",
      "Trainable params: 729729 (2.78 MB)\n",
      "Non-trainable params: 0 (0.00 Byte)\n",
      "_________________________________________________________________\n"
     ]
    }
   ],
   "source": [
    "model = Sequential()\n",
    "\n",
    "# https://keras.io/api/layers/core_layers/embedding/ \n",
    "# https://analytics4everything.tistory.com/200 \n",
    "# Inside Embedding layer, it generates one hot encoding (input_dim) and do lookup table op\n",
    "model.add(\n",
    "    Embedding(input_dim = n_unique_words, \n",
    "              output_dim = n_dim, \n",
    "              input_length = max_review_length))\n",
    "model.add(Flatten())\n",
    "\n",
    "model.add(Dense(n_dense, activation = 'relu'))\n",
    "model.add(Dropout(dropout))\n",
    "\n",
    "model.add(Dense(1, activation = 'sigmoid'))\n",
    "\n",
    "model.summary()"
   ]
  },
  {
   "cell_type": "code",
   "execution_count": 9,
   "id": "70ddafd8",
   "metadata": {},
   "outputs": [],
   "source": [
    "model.compile(loss = 'binary_crossentropy', optimizer='adam', metrics=['accuracy'])"
   ]
  },
  {
   "cell_type": "code",
   "execution_count": 10,
   "id": "b839dacc",
   "metadata": {},
   "outputs": [],
   "source": [
    "import os\n",
    "if not os.path.exists(output_dir):\n",
    "    os.makedirs(output_dir)\n",
    "    \n",
    "modelcheckpoint = ModelCheckpoint(filepath = output_dir + '/weights.{epoch:02d}.keras')"
   ]
  },
  {
   "cell_type": "code",
   "execution_count": 11,
   "id": "09fd8cdf",
   "metadata": {},
   "outputs": [
    {
     "name": "stdout",
     "output_type": "stream",
     "text": [
      "Epoch 1/10\n",
      "196/196 [==============================] - 8s 29ms/step - loss: 0.5429 - accuracy: 0.6996 - val_loss: 0.3584 - val_accuracy: 0.8406\n",
      "Epoch 2/10\n",
      "196/196 [==============================] - 5s 24ms/step - loss: 0.2736 - accuracy: 0.8935 - val_loss: 0.3511 - val_accuracy: 0.8445\n",
      "Epoch 3/10\n",
      "196/196 [==============================] - 6s 30ms/step - loss: 0.1065 - accuracy: 0.9703 - val_loss: 0.4355 - val_accuracy: 0.8343\n",
      "Epoch 4/10\n",
      "196/196 [==============================] - 5s 27ms/step - loss: 0.0218 - accuracy: 0.9970 - val_loss: 0.5336 - val_accuracy: 0.8321\n",
      "Epoch 5/10\n",
      "196/196 [==============================] - 5s 25ms/step - loss: 0.0064 - accuracy: 0.9997 - val_loss: 0.6156 - val_accuracy: 0.8342\n",
      "Epoch 6/10\n",
      "196/196 [==============================] - 5s 25ms/step - loss: 0.0027 - accuracy: 1.0000 - val_loss: 0.6631 - val_accuracy: 0.8338\n",
      "Epoch 7/10\n",
      "196/196 [==============================] - 5s 26ms/step - loss: 0.0016 - accuracy: 1.0000 - val_loss: 0.6998 - val_accuracy: 0.8343\n",
      "Epoch 8/10\n",
      "196/196 [==============================] - 5s 28ms/step - loss: 9.7405e-04 - accuracy: 1.0000 - val_loss: 0.7398 - val_accuracy: 0.8343\n",
      "Epoch 9/10\n",
      "196/196 [==============================] - 5s 28ms/step - loss: 6.6736e-04 - accuracy: 1.0000 - val_loss: 0.7701 - val_accuracy: 0.8339\n",
      "Epoch 10/10\n",
      "196/196 [==============================] - 5s 26ms/step - loss: 5.4522e-04 - accuracy: 1.0000 - val_loss: 0.7953 - val_accuracy: 0.8334\n"
     ]
    },
    {
     "data": {
      "text/plain": [
       "<keras.src.callbacks.History at 0x2009a0a1a50>"
      ]
     },
     "execution_count": 11,
     "metadata": {},
     "output_type": "execute_result"
    }
   ],
   "source": [
    "model.fit(x_train, \n",
    "          y_train, \n",
    "          batch_size = batch_size, \n",
    "          epochs = 10, \n",
    "          verbose = 1, \n",
    "          validation_data = (x_valid, y_valid),\n",
    "         callbacks = [modelcheckpoint])"
   ]
  },
  {
   "cell_type": "markdown",
   "id": "500f1f17",
   "metadata": {},
   "source": [
    "#### Validate v1"
   ]
  },
  {
   "cell_type": "code",
   "execution_count": 12,
   "id": "2c3d0111",
   "metadata": {},
   "outputs": [
    {
     "name": "stdout",
     "output_type": "stream",
     "text": [
      "782/782 [==============================] - 2s 2ms/step\n"
     ]
    },
    {
     "data": {
      "image/png": "[encoded data removed]",
      "text/plain": [
       "<Figure size 640x480 with 1 Axes>"
      ]
     },
     "metadata": {},
     "output_type": "display_data"
    }
   ],
   "source": [
    "model.load_weights(output_dir + \"/weights.10.keras\")\n",
    "\n",
    "y_hat = model.predict(x_valid)\n",
    "\n",
    "import matplotlib.pyplot as plt\n",
    "plt.hist(y_hat)\n",
    "_ = plt.axvline(x = 0.5, color = 'orange')"
   ]
  },
  {
   "cell_type": "code",
   "execution_count": 13,
   "id": "e9767ddc",
   "metadata": {},
   "outputs": [
    {
     "name": "stdout",
     "output_type": "stream",
     "text": [
      "Requirement already satisfied: sklearn in d:\\anaconda3\\lib\\site-packages (0.0.post7)\n"
     ]
    }
   ],
   "source": [
    "!pip install sklearn"
   ]
  },
  {
   "cell_type": "code",
   "execution_count": 14,
   "id": "f9270021",
   "metadata": {},
   "outputs": [
    {
     "name": "stdout",
     "output_type": "stream",
     "text": [
      "roc socre : 91.73\n"
     ]
    }
   ],
   "source": [
    "from sklearn.metrics import roc_auc_score, roc_curve\n",
    "\n",
    "_roc_score = roc_auc_score(y_valid, y_hat) * 100.0\n",
    "print(\"roc socre : {:0.2f}\".format(_roc_score))"
   ]
  },
  {
   "cell_type": "code",
   "execution_count": 15,
   "id": "c801357e",
   "metadata": {},
   "outputs": [
    {
     "name": "stdout",
     "output_type": "stream",
     "text": [
      "Requirement already satisfied: pandas in d:\\anaconda3\\lib\\site-packages (1.5.3)\n",
      "Requirement already satisfied: python-dateutil>=2.8.1 in d:\\anaconda3\\lib\\site-packages (from pandas) (2.8.2)\n",
      "Requirement already satisfied: pytz>=2020.1 in d:\\anaconda3\\lib\\site-packages (from pandas) (2022.7)\n",
      "Requirement already satisfied: numpy>=1.21.0 in d:\\anaconda3\\lib\\site-packages (from pandas) (1.24.3)\n",
      "Requirement already satisfied: six>=1.5 in d:\\anaconda3\\lib\\site-packages (from python-dateutil>=2.8.1->pandas) (1.16.0)\n"
     ]
    }
   ],
   "source": [
    "!pip install pandas"
   ]
  },
  {
   "cell_type": "code",
   "execution_count": 16,
   "id": "c746a8d8",
   "metadata": {},
   "outputs": [],
   "source": [
    "import pandas as pd\n",
    "\n",
    "float_y_hat = [ ]\n",
    "for y in y_hat : \n",
    "    float_y_hat.append(y[0])\n",
    "    \n",
    "y_df = pd.DataFrame(list(zip(float_y_hat, y_valid)), columns = ['y_hat', 'y'])"
   ]
  },
  {
   "cell_type": "code",
   "execution_count": 17,
   "id": "d1db6466",
   "metadata": {},
   "outputs": [
    {
     "data": {
      "text/html": [
       "<div>\n",
       "<style scoped>\n",
       "    .dataframe tbody tr th:only-of-type {\n",
       "        vertical-align: middle;\n",
       "    }\n",
       "\n",
       "    .dataframe tbody tr th {\n",
       "        vertical-align: top;\n",
       "    }\n",
       "\n",
       "    .dataframe thead th {\n",
       "        text-align: right;\n",
       "    }\n",
       "</style>\n",
       "<table border=\"1\" class=\"dataframe\">\n",
       "  <thead>\n",
       "    <tr style=\"text-align: right;\">\n",
       "      <th></th>\n",
       "      <th>y_hat</th>\n",
       "      <th>y</th>\n",
       "    </tr>\n",
       "  </thead>\n",
       "  <tbody>\n",
       "    <tr>\n",
       "      <th>8</th>\n",
       "      <td>0.980578</td>\n",
       "      <td>0</td>\n",
       "    </tr>\n",
       "    <tr>\n",
       "      <th>66</th>\n",
       "      <td>0.985132</td>\n",
       "      <td>0</td>\n",
       "    </tr>\n",
       "    <tr>\n",
       "      <th>75</th>\n",
       "      <td>0.999938</td>\n",
       "      <td>0</td>\n",
       "    </tr>\n",
       "    <tr>\n",
       "      <th>95</th>\n",
       "      <td>0.999587</td>\n",
       "      <td>0</td>\n",
       "    </tr>\n",
       "    <tr>\n",
       "      <th>112</th>\n",
       "      <td>0.995264</td>\n",
       "      <td>0</td>\n",
       "    </tr>\n",
       "    <tr>\n",
       "      <th>152</th>\n",
       "      <td>0.999995</td>\n",
       "      <td>0</td>\n",
       "    </tr>\n",
       "    <tr>\n",
       "      <th>156</th>\n",
       "      <td>0.999864</td>\n",
       "      <td>0</td>\n",
       "    </tr>\n",
       "    <tr>\n",
       "      <th>232</th>\n",
       "      <td>0.999742</td>\n",
       "      <td>0</td>\n",
       "    </tr>\n",
       "    <tr>\n",
       "      <th>256</th>\n",
       "      <td>0.999934</td>\n",
       "      <td>0</td>\n",
       "    </tr>\n",
       "    <tr>\n",
       "      <th>260</th>\n",
       "      <td>0.944926</td>\n",
       "      <td>0</td>\n",
       "    </tr>\n",
       "  </tbody>\n",
       "</table>\n",
       "</div>"
      ],
      "text/plain": [
       "        y_hat  y\n",
       "8    0.980578  0\n",
       "66   0.985132  0\n",
       "75   0.999938  0\n",
       "95   0.999587  0\n",
       "112  0.995264  0\n",
       "152  0.999995  0\n",
       "156  0.999864  0\n",
       "232  0.999742  0\n",
       "256  0.999934  0\n",
       "260  0.944926  0"
      ]
     },
     "execution_count": 17,
     "metadata": {},
     "output_type": "execute_result"
    }
   ],
   "source": [
    "y_df[(y_df.y == 0) & (y_df.y_hat > 0.9)].head(10)"
   ]
  },
  {
   "cell_type": "code",
   "execution_count": 18,
   "id": "155eb593",
   "metadata": {},
   "outputs": [
    {
     "data": {
      "text/plain": [
       "\"START hollywood had a long love affair with bogus arabian nights tales but few of these products have stood the test of time the most memorable were the jon hall maria montez films which have long since become camp this one is filled with dubbed songs anachronistic slang and slapstick it's a truly crop of corn and pretty near intolerable today it was nominated for its imaginative special effects which are almost unnoticeable in this day and age consisting mainly of trick photography the only outstanding positive feature which survives is its beautiful color and clarity sad to say of the many films made in this genre few of them come up to alexander korda's original thief of baghdad almost any other arabian nights film is superior to this one though it's a loser\""
      ]
     },
     "execution_count": 18,
     "metadata": {},
     "output_type": "execute_result"
    }
   ],
   "source": [
    "' '.join(index_word[x] for x in all_x_valid[8])"
   ]
  },
  {
   "cell_type": "code",
   "execution_count": 19,
   "id": "1bedeca0",
   "metadata": {},
   "outputs": [
    {
     "data": {
      "text/plain": [
       "\"START the adventures of hercules has to be one of the lamest excuses for a movie i've yet run across you would have to look far and wide to find anything that approaches the level of ineptness on display in this movie acting \\x96 bad editing \\x96 bad direction \\x96 bad special effects \\x96 bad and laughable plot \\x96 bad lighting \\x96 bad cinematography \\x96 bad costume design \\x96 bad and silly everything else \\x96 bad watching the adventures of hercules is about as enjoyable as a root canal even for a fan of bad movies it's a real endurance test this is one for either masochists or lou ferrigno completists if any exist br br eight things i learned from watching the adventures of hercules br br 1 if you don't have the budget for real special effects rotoscope a scene from the previous movie it will look great trust me br br 2 when on a quest to recover take time for frequent stops to oil up you body it worked for ferrigno and his two amazon companions br br 3 any sword fight use of magic and just about all other day to day activities in ancient greece created a sound very similar to a game of man or asteroids br br 4 some of the ancient greek gods dressed like extras from star wars br br 5 if you need to pad your crappy movie's runtime extend the title sequence by adding star trek style credits and throw in some overly grandiose music it also helps if you've got a previous movie to pull scenes from br br 6 fight scenes move along much smoother if the bad guys attack hercules one at a time br br 7 william berger did anything for money br br 8 i didn't think it was possible but the adventures of hercules makes the first film hercules 1983 look like an academy award winner\""
      ]
     },
     "execution_count": 19,
     "metadata": {},
     "output_type": "execute_result"
    }
   ],
   "source": [
    "' '.join(index_word[x] for x in all_x_valid[75])"
   ]
  },
  {
   "cell_type": "code",
   "execution_count": 20,
   "id": "8ccf774b",
   "metadata": {},
   "outputs": [
    {
     "data": {
      "text/plain": [
       "\"START this is a disappointing adaptation of the james lee burke novel in the electric mist of the confederate dead it is rather poorly acted mainly due to the miscasting of the principal players tommy lee jones a normally fine actor just doesn't capture burke's dave as main nemesis john goodman does a sloppy job as the heavy the guy who plays actor buddy doesn't look like a former a lister leading man the rest of the movie is mainly cast with no name locals who just don't do justice to a big time novel br br the movie and jones' performance is way too hurried for one thing in burke's series of novels gives one the feeling that he fits well into his environment most of the time being laid back and slow moving this is just like the deep south and southern louisiana then at times is nearly manic in his jones just moves at a fast pace through the whole movie he doesn't vary ned beatty is wasted mary steenburgen is out of place about the only good thing about this is the setting on the whole the movie gives one the impression of a tv movie\""
      ]
     },
     "execution_count": 20,
     "metadata": {},
     "output_type": "execute_result"
    }
   ],
   "source": [
    "' '.join(index_word[x] for x in all_x_valid[95])"
   ]
  },
  {
   "cell_type": "markdown",
   "id": "1d37cb32",
   "metadata": {},
   "source": [
    "## Simple Conv Dense model _ V2"
   ]
  },
  {
   "cell_type": "code",
   "execution_count": 21,
   "id": "1090e322",
   "metadata": {},
   "outputs": [],
   "source": [
    "from tensorflow import keras\n",
    "from keras.layers import Conv1D, GlobalMaxPooling1D\n",
    "from keras.layers import SpatialDropout1D"
   ]
  },
  {
   "cell_type": "code",
   "execution_count": 22,
   "id": "0de5aec4",
   "metadata": {},
   "outputs": [],
   "source": [
    "max_review_length = 400"
   ]
  },
  {
   "cell_type": "code",
   "execution_count": 23,
   "id": "69e14e80",
   "metadata": {},
   "outputs": [
    {
     "name": "stdout",
     "output_type": "stream",
     "text": [
      "Model: \"sequential_1\"\n",
      "_________________________________________________________________\n",
      " Layer (type)                Output Shape              Param #   \n",
      "=================================================================\n",
      " embedding_1 (Embedding)     (None, 400, 64)           320000    \n",
      "                                                                 \n",
      " spatial_dropout1d (Spatial  (None, 400, 64)           0         \n",
      " Dropout1D)                                                      \n",
      "                                                                 \n",
      " conv1d (Conv1D)             (None, 398, 256)          49408     \n",
      "                                                                 \n",
      " conv1d_1 (Conv1D)           (None, 396, 256)          196864    \n",
      "                                                                 \n",
      " global_max_pooling1d (Glob  (None, 256)               0         \n",
      " alMaxPooling1D)                                                 \n",
      "                                                                 \n",
      " dense_2 (Dense)             (None, 256)               65792     \n",
      "                                                                 \n",
      " dropout_1 (Dropout)         (None, 256)               0         \n",
      "                                                                 \n",
      " dense_3 (Dense)             (None, 1)                 257       \n",
      "                                                                 \n",
      "=================================================================\n",
      "Total params: 632321 (2.41 MB)\n",
      "Trainable params: 632321 (2.41 MB)\n",
      "Non-trainable params: 0 (0.00 Byte)\n",
      "_________________________________________________________________\n"
     ]
    }
   ],
   "source": [
    "model = Sequential()\n",
    "\n",
    "model.add(Embedding(input_dim = n_unique_words,\n",
    "                   output_dim = n_dim,\n",
    "                   input_length = max_review_length))\n",
    "model.add(SpatialDropout1D(0.2))\n",
    "\n",
    "# Conv1D : https://keras.io/api/layers/convolution_layers/convolution1d/ \n",
    "k_conv = 256  # filters (a.k.a kernels)\n",
    "n_conv = 3    # kernel size\n",
    "model.add(Conv1D(k_conv, n_conv, activation='relu'))\n",
    "model.add(Conv1D(k_conv, n_conv, activation = 'relu'))\n",
    "model.add(GlobalMaxPooling1D())\n",
    "\n",
    "model.add(Dense(256, activation='relu'))\n",
    "model.add(Dropout(0.5))\n",
    "\n",
    "model.add(Dense(1, activation='sigmoid'))\n",
    "\n",
    "model.summary()"
   ]
  },
  {
   "cell_type": "markdown",
   "id": "4c125ad6",
   "metadata": {},
   "source": [
    "#### Model Summary Notes\n",
    "\n",
    "behind Params calualtion \n",
    " * `embedding` :  n_unique_words(5000) * output_dim(64) \n",
    " * `conv1d`  :  kernel_size(3*64) * kernel_count(256) + kernel_bias(256) = 49408\n",
    " * `dense_first` : input_dim(256) * output_dim(256) + output_bias(256) = 65892\n",
    " * `dense_second` : input_dim(256) * ouput_dim(1) + output_bias(1) = 257 "
   ]
  },
  {
   "cell_type": "code",
   "execution_count": 24,
   "id": "55293511",
   "metadata": {},
   "outputs": [],
   "source": [
    "# update max_review_length to 400\n",
    "x_train = pad_sequences(x_train, maxlen = max_review_length, padding = pad_type, truncating = truc_type, value = 0)\n",
    "x_valid = pad_sequences(x_valid, maxlen = max_review_length, padding = pad_type, truncating = truc_type, value = 0)"
   ]
  },
  {
   "cell_type": "code",
   "execution_count": 25,
   "id": "83077797",
   "metadata": {},
   "outputs": [
    {
     "name": "stdout",
     "output_type": "stream",
     "text": [
      "Epoch 1/5\n",
      "196/196 [==============================] - 253s 1s/step - loss: 0.5620 - accuracy: 0.6828 - val_loss: 0.4154 - val_accuracy: 0.8107\n",
      "Epoch 2/5\n",
      "196/196 [==============================] - 251s 1s/step - loss: 0.3694 - accuracy: 0.8382 - val_loss: 0.3838 - val_accuracy: 0.8272\n",
      "Epoch 3/5\n",
      "196/196 [==============================] - 251s 1s/step - loss: 0.2763 - accuracy: 0.8872 - val_loss: 0.3748 - val_accuracy: 0.8372\n",
      "Epoch 4/5\n",
      "196/196 [==============================] - 244s 1s/step - loss: 0.2017 - accuracy: 0.9238 - val_loss: 0.4252 - val_accuracy: 0.8302\n",
      "Epoch 5/5\n",
      "196/196 [==============================] - 250s 1s/step - loss: 0.1540 - accuracy: 0.9411 - val_loss: 0.5085 - val_accuracy: 0.8255\n"
     ]
    },
    {
     "data": {
      "text/plain": [
       "<keras.src.callbacks.History at 0x20096af9390>"
      ]
     },
     "execution_count": 25,
     "metadata": {},
     "output_type": "execute_result"
    }
   ],
   "source": [
    "model.compile(loss = 'binary_crossentropy', optimizer='adam', metrics=['accuracy']) \n",
    "\n",
    "output_dir = 'model_output/conv_dense'\n",
    "modelcheckpoint = ModelCheckpoint(filepath = output_dir + '/weights.{epoch:02d}.keras') \n",
    "\n",
    "model.fit(x_train, \n",
    "          y_train, \n",
    "          batch_size = batch_size,\n",
    "          epochs = 5, \n",
    "          verbose = 1, \n",
    "          validation_data = (x_valid, y_valid),\n",
    "         callbacks = [modelcheckpoint])"
   ]
  },
  {
   "cell_type": "code",
   "execution_count": 27,
   "id": "94e93e22",
   "metadata": {},
   "outputs": [
    {
     "name": "stdout",
     "output_type": "stream",
     "text": [
      "782/782 [==============================] - 57s 73ms/step\n"
     ]
    },
    {
     "data": {
      "image/png": "[encoded data removed]",
      "text/plain": [
       "<Figure size 640x480 with 1 Axes>"
      ]
     },
     "metadata": {},
     "output_type": "display_data"
    }
   ],
   "source": [
    "model.load_weights(\"model_output/conv_dense/weights.03.keras\")\n",
    "\n",
    "y_hat = model.predict(x_valid)\n",
    "\n",
    "import matplotlib.pyplot as plt\n",
    "plt.hist(y_hat)\n",
    "_ = plt.axvline(x = 0.5, color = 'orange')"
   ]
  },
  {
   "cell_type": "code",
   "execution_count": 28,
   "id": "518eac8a",
   "metadata": {},
   "outputs": [
    {
     "name": "stdout",
     "output_type": "stream",
     "text": [
      "roc socre : 91.76\n"
     ]
    }
   ],
   "source": [
    "_roc_score = roc_auc_score(y_valid, y_hat) * 100.0\n",
    "print(\"roc socre : {:0.2f}\".format(_roc_score))"
   ]
  },
  {
   "cell_type": "code",
   "execution_count": null,
   "id": "a3d8d2c4",
   "metadata": {},
   "outputs": [],
   "source": []
  }
 ],
 "metadata": {
  "kernelspec": {
   "display_name": "Python 3 (ipykernel)",
   "language": "python",
   "name": "python3"
  },
  "language_info": {
   "codemirror_mode": {
    "name": "ipython",
    "version": 3
   },
   "file_extension": ".py",
   "mimetype": "text/x-python",
   "name": "python",
   "nbconvert_exporter": "python",
   "pygments_lexer": "ipython3",
   "version": "3.11.4"
  }
 },
 "nbformat": 4,
 "nbformat_minor": 5
}
